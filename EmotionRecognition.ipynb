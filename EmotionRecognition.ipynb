{
  "nbformat": 4,
  "nbformat_minor": 0,
  "metadata": {
    "colab": {
      "provenance": [],
      "gpuType": "T4"
    },
    "kernelspec": {
      "name": "python3",
      "display_name": "Python 3"
    },
    "language_info": {
      "name": "python"
    },
    "accelerator": "GPU"
  },
  "cells": [
    {
      "cell_type": "code",
      "execution_count": 1,
      "metadata": {
        "colab": {
          "base_uri": "https://localhost:8080/"
        },
        "id": "WZLJkLCksxdV",
        "outputId": "37b5a5db-3b96-4d0a-be16-391aabe61832"
      },
      "outputs": [
        {
          "output_type": "stream",
          "name": "stdout",
          "text": [
            "Mounted at /content/drive\n"
          ]
        }
      ],
      "source": [
        "from google.colab import drive\n",
        "drive.mount('/content/drive')\n"
      ]
    },
    {
      "cell_type": "code",
      "source": [
        "import os\n",
        "from google.colab import drive\n",
        "\n",
        "# Mount Google Drive\n",
        "drive.mount('/content/drive')\n",
        "\n",
        "# This is the path to the folder within your Google Drive\n",
        "drive_path = '/content/drive/MyDrive/EmotionRecognitionProject' # Changed to the local path after mounting\n",
        "\n",
        "# List the files in the folder\n",
        "files = os.listdir(drive_path)\n",
        "\n",
        "# Print the list of files to check\n",
        "for file in files:\n",
        "    print(file)"
      ],
      "metadata": {
        "colab": {
          "base_uri": "https://localhost:8080/"
        },
        "id": "AwsrhZxMuasJ",
        "outputId": "e14ecdb9-9edd-40d2-f49d-f86b0bce84b3"
      },
      "execution_count": 2,
      "outputs": [
        {
          "output_type": "stream",
          "name": "stdout",
          "text": [
            "Drive already mounted at /content/drive; to attempt to forcibly remount, call drive.mount(\"/content/drive\", force_remount=True).\n",
            "archive.zip\n",
            "TESS Toronto emotional speech set data\n",
            "tess toronto emotional speech set data\n",
            "audio.wav\n",
            "Recording.wav\n",
            "new.wav\n",
            "emotion_recognition_model.joblib\n"
          ]
        }
      ]
    },
    {
      "cell_type": "code",
      "source": [
        "import zipfile\n",
        "\n",
        "# Path to the zip file\n",
        "zip_file_path = '/content/drive/MyDrive/EmotionRecognitionProject/archive.zip'\n",
        "\n",
        "# Path to extract the files\n",
        "extracted_folder_path = '/content/drive/MyDrive/EmotionRecognitionProject/ExctractedData/'\n",
        "\n",
        "# Create a folder to extract the files if it doesn't exist\n",
        "os.makedirs(extracted_folder_path, exist_ok=True)\n",
        "\n",
        "# Extract the zip file\n",
        "with zipfile.ZipFile(zip_file_path, 'r') as zip_ref:\n",
        "    zip_ref.extractall(extracted_folder_path)\n",
        "\n",
        "# List the files in the extracted folder\n",
        "extracted_files = os.listdir(extracted_folder_path)\n",
        "\n",
        "# Print the list of extracted files\n",
        "print(\"Extracted files:\")\n",
        "for file in extracted_files:\n",
        "    print(file)\n",
        "\n"
      ],
      "metadata": {
        "id": "cW2MAoP6uy--",
        "colab": {
          "base_uri": "https://localhost:8080/"
        },
        "outputId": "1076ad6a-152a-4f34-e292-404cc9fc7baa"
      },
      "execution_count": 3,
      "outputs": [
        {
          "output_type": "stream",
          "name": "stdout",
          "text": [
            "Extracted files:\n",
            "TESS Toronto emotional speech set data\n",
            "tess toronto emotional speech set data\n"
          ]
        }
      ]
    },
    {
      "cell_type": "code",
      "source": [
        "# Check the contents of both extracted folders\n",
        "folder1_path = '/content/drive/MyDrive/EmotionRecognitionProject/ExctractedData/TESS Toronto emotional speech set data'\n",
        "folder2_path = '/content/drive/MyDrive/EmotionRecognitionProject/ExctractedData/tess toronto emotional speech set data'\n",
        "\n",
        "# List files in the first folder\n",
        "folder1_files = os.listdir(folder1_path)\n",
        "print(\"Contents of 'TESS Toronto emotional speech set data':\")\n",
        "for file in folder1_files:\n",
        "    print(file)\n",
        "\n",
        "# List files in the second folder\n",
        "folder2_files = os.listdir(folder2_path)\n",
        "print(\"Contents of 'tess toronto emotional speech set data':\")\n",
        "for file in folder2_files:\n",
        "    print(file)\n"
      ],
      "metadata": {
        "colab": {
          "base_uri": "https://localhost:8080/"
        },
        "id": "4Q6TH9_z2M1m",
        "outputId": "8b215198-6c89-4b9f-cbbb-c56de2957bdb"
      },
      "execution_count": 4,
      "outputs": [
        {
          "output_type": "stream",
          "name": "stdout",
          "text": [
            "Contents of 'TESS Toronto emotional speech set data':\n",
            "OAF_Fear\n",
            "OAF_Pleasant_surprise\n",
            "OAF_Sad\n",
            "OAF_angry\n",
            "OAF_disgust\n",
            "OAF_happy\n",
            "OAF_neutral\n",
            "YAF_angry\n",
            "YAF_disgust\n",
            "YAF_fear\n",
            "YAF_happy\n",
            "YAF_neutral\n",
            "YAF_pleasant_surprised\n",
            "YAF_sad\n",
            "Contents of 'tess toronto emotional speech set data':\n",
            "TESS Toronto emotional speech set data\n"
          ]
        }
      ]
    },
    {
      "cell_type": "code",
      "source": [
        "# Path to one of the emotion folders\n",
        "emotion_folder_path = '/content/drive/MyDrive/EmotionRecognitionProject/ExctractedData/TESS Toronto emotional speech set data/OAF_Fear'\n",
        "\n",
        "# List the files in this emotion folder\n",
        "emotion_files = os.listdir(emotion_folder_path)\n",
        "print(f\"Files in '{emotion_folder_path}':\")\n",
        "for file in emotion_files:\n",
        "    print(file)\n",
        "\n"
      ],
      "metadata": {
        "colab": {
          "base_uri": "https://localhost:8080/"
        },
        "id": "rFzsxHvr2VsI",
        "outputId": "3449b590-1a0d-47f8-d89e-fdeb1cc721cc"
      },
      "execution_count": 5,
      "outputs": [
        {
          "output_type": "stream",
          "name": "stdout",
          "text": [
            "Files in '/content/drive/MyDrive/EmotionRecognitionProject/ExctractedData/TESS Toronto emotional speech set data/OAF_Fear':\n",
            "OAF_back_fear.wav\n",
            "OAF_bar_fear.wav\n",
            "OAF_base_fear.wav\n",
            "OAF_bath_fear.wav\n",
            "OAF_bean_fear.wav\n",
            "OAF_beg_fear.wav\n",
            "OAF_bite_fear.wav\n",
            "OAF_boat_fear.wav\n",
            "OAF_bone_fear.wav\n",
            "OAF_book_fear.wav\n",
            "OAF_bought_fear.wav\n",
            "OAF_burn_fear.wav\n",
            "OAF_cab_fear.wav\n",
            "OAF_calm_fear.wav\n",
            "OAF_came_fear.wav\n",
            "OAF_cause_fear.wav\n",
            "OAF_chain_fear.wav\n",
            "OAF_chair_fear.wav\n",
            "OAF_chalk_fear.wav\n",
            "OAF_chat_fear.wav\n",
            "OAF_check_fear.wav\n",
            "OAF_cheek_fear.wav\n",
            "OAF_chief_fear.wav\n",
            "OAF_choice_fear.wav\n",
            "OAF_cool_fear.wav\n",
            "OAF_dab_fear.wav\n",
            "OAF_date_fear.wav\n",
            "OAF_dead_fear.wav\n",
            "OAF_death_fear.wav\n",
            "OAF_deep_fear.wav\n",
            "OAF_dime_fear.wav\n",
            "OAF_dip_fear.wav\n",
            "OAF_ditch_fear.wav\n",
            "OAF_dodge_fear.wav\n",
            "OAF_dog_fear.wav\n",
            "OAF_doll_fear.wav\n",
            "OAF_door_fear.wav\n",
            "OAF_fail_fear.wav\n",
            "OAF_fall_fear.wav\n",
            "OAF_far_fear.wav\n",
            "OAF_fat_fear.wav\n",
            "OAF_fit_fear.wav\n",
            "OAF_five_fear.wav\n",
            "OAF_food_fear.wav\n",
            "OAF_gap_fear.wav\n",
            "OAF_gas_fear.wav\n",
            "OAF_gaze_fear.wav\n",
            "OAF_germ_fear.wav\n",
            "OAF_get_fear.wav\n",
            "OAF_gin_fear.wav\n",
            "OAF_goal_fear.wav\n",
            "OAF_good_fear.wav\n",
            "OAF_goose_fear.wav\n",
            "OAF_gun_fear.wav\n",
            "OAF_half_fear.wav\n",
            "OAF_hall_fear.wav\n",
            "OAF_hash_fear.wav\n",
            "OAF_hate_fear.wav\n",
            "OAF_have_fear.wav\n",
            "OAF_haze_fear.wav\n",
            "OAF_hire_fear.wav\n",
            "OAF_hit_fear.wav\n",
            "OAF_hole_fear.wav\n",
            "OAF_home_fear.wav\n",
            "OAF_hurl_fear.wav\n",
            "OAF_hush_fear.wav\n",
            "OAF_jail_fear.wav\n",
            "OAF_jar_fear.wav\n",
            "OAF_join_fear.wav\n",
            "OAF_judge_fear.wav\n",
            "OAF_jug_fear.wav\n",
            "OAF_juice_fear.wav\n",
            "OAF_keen_fear.wav\n",
            "OAF_keep_fear.wav\n",
            "OAF_keg_fear.wav\n",
            "OAF_kick_fear.wav\n",
            "OAF_kill_fear.wav\n",
            "OAF_king_fear.wav\n",
            "OAF_kite_fear.wav\n",
            "OAF_knock_fear.wav\n",
            "OAF_late_fear.wav\n",
            "OAF_laud_fear.wav\n",
            "OAF_lean_fear.wav\n",
            "OAF_learn_fear.wav\n",
            "OAF_lease_fear.wav\n",
            "OAF_lid_fear.wav\n",
            "OAF_life_fear.wav\n",
            "OAF_limb_fear.wav\n",
            "OAF_live_fear.wav\n",
            "OAF_loaf_fear.wav\n",
            "OAF_long_fear.wav\n",
            "OAF_lore_fear.wav\n",
            "OAF_lose_fear.wav\n",
            "OAF_lot_fear.wav\n",
            "OAF_love_fear.wav\n",
            "OAF_luck_fear.wav\n",
            "OAF_make_fear.wav\n",
            "OAF_match_fear.wav\n",
            "OAF_merge_fear.wav\n",
            "OAF_mess_fear.wav\n",
            "OAF_met_fear.wav\n",
            "OAF_mill_fear.wav\n",
            "OAF_mob_fear.wav\n",
            "OAF_mode_fear.wav\n",
            "OAF_mood_fear.wav\n",
            "OAF_moon_fear.wav\n",
            "OAF_mop_fear.wav\n",
            "OAF_mouse_fear.wav\n",
            "OAF_nag_fear.wav\n",
            "OAF_name_fear.wav\n",
            "OAF_near_fear.wav\n",
            "OAF_neat_fear.wav\n",
            "OAF_nice_fear.wav\n",
            "OAF_note_fear.wav\n",
            "OAF_numb_fear.wav\n",
            "OAF_pad_fear.wav\n",
            "OAF_page_fear.wav\n",
            "OAF_pain_fear.wav\n",
            "OAF_pass_fear.wav\n",
            "OAF_pearl_fear.wav\n",
            "OAF_peg_fear.wav\n",
            "OAF_perch_fear.wav\n",
            "OAF_phone_fear.wav\n",
            "OAF_pick_fear.wav\n",
            "OAF_pike_fear.wav\n",
            "OAF_pole_fear.wav\n",
            "OAF_pool_fear.wav\n",
            "OAF_puff_fear.wav\n",
            "OAF_rag_fear.wav\n",
            "OAF_raid_fear.wav\n",
            "OAF_rain_fear.wav\n",
            "OAF_raise_fear.wav\n",
            "OAF_rat_fear.wav\n",
            "OAF_reach_fear.wav\n",
            "OAF_read_fear.wav\n",
            "OAF_red_fear.wav\n",
            "OAF_ring_fear.wav\n",
            "OAF_ripe_fear.wav\n",
            "OAF_road_fear.wav\n",
            "OAF_room_fear.wav\n",
            "OAF_rose_fear.wav\n",
            "OAF_rot_fear.wav\n",
            "OAF_rough_fear.wav\n",
            "OAF_rush_fear.wav\n",
            "OAF_said_fear.wav\n",
            "OAF_sail_fear.wav\n",
            "OAF_search_fear.wav\n",
            "OAF_seize_fear.wav\n",
            "OAF_sell_fear.wav\n",
            "OAF_shack_fear.wav\n",
            "OAF_shall_fear.wav\n",
            "OAF_shawl_fear.wav\n",
            "OAF_sheep_fear.wav\n",
            "OAF_shirt_fear.wav\n",
            "OAF_should_fear.wav\n",
            "OAF_shout_fear.wav\n",
            "OAF_size_fear.wav\n",
            "OAF_soap_fear.wav\n",
            "OAF_soup_fear.wav\n",
            "OAF_sour_fear.wav\n",
            "OAF_south_fear.wav\n",
            "OAF_sub_fear.wav\n",
            "OAF_such_fear.wav\n",
            "OAF_sure_fear.wav\n",
            "OAF_take_fear.wav\n",
            "OAF_talk_fear.wav\n",
            "OAF_tape_fear.wav\n",
            "OAF_team_fear.wav\n",
            "OAF_tell_fear.wav\n",
            "OAF_thin_fear.wav\n",
            "OAF_third_fear.wav\n",
            "OAF_thought_fear.wav\n",
            "OAF_thumb_fear.wav\n",
            "OAF_time_fear.wav\n",
            "OAF_tip_fear.wav\n",
            "OAF_tire_fear.wav\n",
            "OAF_ton_fear.wav\n",
            "OAF_tool_fear.wav\n",
            "OAF_tough_fear.wav\n",
            "OAF_turn_fear.wav\n",
            "OAF_vine_fear.wav\n",
            "OAF_voice_fear.wav\n",
            "OAF_void_fear.wav\n",
            "OAF_vote_fear.wav\n",
            "OAF_wag_fear.wav\n",
            "OAF_walk_fear.wav\n",
            "OAF_wash_fear.wav\n",
            "OAF_week_fear.wav\n",
            "OAF_wheat_fear.wav\n",
            "OAF_when_fear.wav\n",
            "OAF_which_fear.wav\n",
            "OAF_whip_fear.wav\n",
            "OAF_white_fear.wav\n",
            "OAF_wife_fear.wav\n",
            "OAF_wire_fear.wav\n",
            "OAF_witch_fear.wav\n",
            "OAF_yearn_fear.wav\n",
            "OAF_yes_fear.wav\n",
            "OAF_young_fear.wav\n",
            "OAF_youth_fear.wav\n"
          ]
        }
      ]
    },
    {
      "cell_type": "code",
      "source": [
        "!pip install librosa numpy\n"
      ],
      "metadata": {
        "colab": {
          "base_uri": "https://localhost:8080/"
        },
        "id": "46br3k2v2brt",
        "outputId": "9a3428c9-0394-4f62-b6e3-d36a413618e5"
      },
      "execution_count": null,
      "outputs": [
        {
          "output_type": "stream",
          "name": "stdout",
          "text": [
            "Requirement already satisfied: librosa in /usr/local/lib/python3.11/dist-packages (0.11.0)\n",
            "Requirement already satisfied: numpy in /usr/local/lib/python3.11/dist-packages (2.0.2)\n",
            "Requirement already satisfied: audioread>=2.1.9 in /usr/local/lib/python3.11/dist-packages (from librosa) (3.0.1)\n",
            "Requirement already satisfied: numba>=0.51.0 in /usr/local/lib/python3.11/dist-packages (from librosa) (0.60.0)\n",
            "Requirement already satisfied: scipy>=1.6.0 in /usr/local/lib/python3.11/dist-packages (from librosa) (1.14.1)\n",
            "Requirement already satisfied: scikit-learn>=1.1.0 in /usr/local/lib/python3.11/dist-packages (from librosa) (1.6.1)\n",
            "Requirement already satisfied: joblib>=1.0 in /usr/local/lib/python3.11/dist-packages (from librosa) (1.4.2)\n",
            "Requirement already satisfied: decorator>=4.3.0 in /usr/local/lib/python3.11/dist-packages (from librosa) (4.4.2)\n",
            "Requirement already satisfied: soundfile>=0.12.1 in /usr/local/lib/python3.11/dist-packages (from librosa) (0.13.1)\n",
            "Requirement already satisfied: pooch>=1.1 in /usr/local/lib/python3.11/dist-packages (from librosa) (1.8.2)\n",
            "Requirement already satisfied: soxr>=0.3.2 in /usr/local/lib/python3.11/dist-packages (from librosa) (0.5.0.post1)\n",
            "Requirement already satisfied: typing_extensions>=4.1.1 in /usr/local/lib/python3.11/dist-packages (from librosa) (4.13.2)\n",
            "Requirement already satisfied: lazy_loader>=0.1 in /usr/local/lib/python3.11/dist-packages (from librosa) (0.4)\n",
            "Requirement already satisfied: msgpack>=1.0 in /usr/local/lib/python3.11/dist-packages (from librosa) (1.1.0)\n",
            "Requirement already satisfied: packaging in /usr/local/lib/python3.11/dist-packages (from lazy_loader>=0.1->librosa) (24.2)\n",
            "Requirement already satisfied: llvmlite<0.44,>=0.43.0dev0 in /usr/local/lib/python3.11/dist-packages (from numba>=0.51.0->librosa) (0.43.0)\n",
            "Requirement already satisfied: platformdirs>=2.5.0 in /usr/local/lib/python3.11/dist-packages (from pooch>=1.1->librosa) (4.3.7)\n",
            "Requirement already satisfied: requests>=2.19.0 in /usr/local/lib/python3.11/dist-packages (from pooch>=1.1->librosa) (2.32.3)\n",
            "Requirement already satisfied: threadpoolctl>=3.1.0 in /usr/local/lib/python3.11/dist-packages (from scikit-learn>=1.1.0->librosa) (3.6.0)\n",
            "Requirement already satisfied: cffi>=1.0 in /usr/local/lib/python3.11/dist-packages (from soundfile>=0.12.1->librosa) (1.17.1)\n",
            "Requirement already satisfied: pycparser in /usr/local/lib/python3.11/dist-packages (from cffi>=1.0->soundfile>=0.12.1->librosa) (2.22)\n",
            "Requirement already satisfied: charset-normalizer<4,>=2 in /usr/local/lib/python3.11/dist-packages (from requests>=2.19.0->pooch>=1.1->librosa) (3.4.1)\n",
            "Requirement already satisfied: idna<4,>=2.5 in /usr/local/lib/python3.11/dist-packages (from requests>=2.19.0->pooch>=1.1->librosa) (3.10)\n",
            "Requirement already satisfied: urllib3<3,>=1.21.1 in /usr/local/lib/python3.11/dist-packages (from requests>=2.19.0->pooch>=1.1->librosa) (2.3.0)\n",
            "Requirement already satisfied: certifi>=2017.4.17 in /usr/local/lib/python3.11/dist-packages (from requests>=2.19.0->pooch>=1.1->librosa) (2025.1.31)\n"
          ]
        }
      ]
    },
    {
      "cell_type": "code",
      "source": [
        "import librosa\n",
        "import numpy as np\n",
        "import os\n",
        "\n",
        "# Function to extract MFCCs from an audio file\n",
        "def extract_mfcc(file_path):\n",
        "    # Load the audio file with librosa\n",
        "    audio, sr = librosa.load(file_path, sr=None)\n",
        "\n",
        "    # Extract MFCCs from the audio signal\n",
        "    mfccs = librosa.feature.mfcc(y=audio, sr=sr, n_mfcc=13)\n",
        "\n",
        "    # Take the mean of each MFCC feature across time frames\n",
        "    mfccs = np.mean(mfccs.T, axis=0)\n",
        "\n",
        "    return mfccs\n",
        "\n",
        "# Path to the emotion folder (change as needed)\n",
        "emotion_folder_path = '/content/drive/MyDrive/EmotionRecognitionProject/ExctractedData/TESS Toronto emotional speech set data/OAF_Fear'\n",
        "\n",
        "# List all audio files in the folder\n",
        "emotion_files = os.listdir(emotion_folder_path)\n",
        "\n",
        "# Extract MFCCs for all audio files in the folder\n",
        "features = []\n",
        "labels = []\n",
        "\n",
        "for file in emotion_files:\n",
        "    if file.endswith('.wav'):  # Check if the file is an audio file\n",
        "        file_path = os.path.join(emotion_folder_path, file)\n",
        "        mfccs = extract_mfcc(file_path)\n",
        "        features.append(mfccs)\n",
        "        labels.append('Fear')  # The label is 'Fear' for this folder\n",
        "\n",
        "# Convert features and labels to numpy arrays\n",
        "features = np.array(features)\n",
        "labels = np.array(labels)\n",
        "\n",
        "print(\"Extracted MFCCs features shape:\", features.shape)\n"
      ],
      "metadata": {
        "colab": {
          "base_uri": "https://localhost:8080/"
        },
        "id": "joJTvN8s25lG",
        "outputId": "23ce19c0-8c88-438d-b96a-81e1d63a68aa"
      },
      "execution_count": 6,
      "outputs": [
        {
          "output_type": "stream",
          "name": "stdout",
          "text": [
            "Extracted MFCCs features shape: (200, 13)\n"
          ]
        }
      ]
    },
    {
      "cell_type": "code",
      "source": [
        "# Define the emotion folders and their corresponding labels\n",
        "emotion_folders = [\n",
        "    ('OAF_Fear', 'Fear'),\n",
        "    ('OAF_Pleasant_surprise', 'Pleasant_surprise'),\n",
        "    ('OAF_Sad', 'Sad'),\n",
        "    ('OAF_angry', 'Angry'),\n",
        "    ('OAF_disgust', 'Disgust'),\n",
        "    ('OAF_happy', 'Happy'),\n",
        "    ('OAF_neutral', 'Neutral'),\n",
        "    ('YAF_angry', 'Angry'),\n",
        "    ('YAF_disgust', 'Disgust'),\n",
        "    ('YAF_fear', 'Fear'),\n",
        "    ('YAF_happy', 'Happy'),\n",
        "    ('YAF_neutral', 'Neutral'),\n",
        "    ('YAF_pleasant_surprised', 'Pleasant_surprise'),\n",
        "    ('YAF_sad', 'Sad')\n",
        "]\n",
        "\n",
        "# Initialize empty lists to store the features and labels\n",
        "all_features = []\n",
        "all_labels = []\n",
        "\n",
        "# Loop through each emotion folder and extract features\n",
        "for folder, label in emotion_folders:\n",
        "    folder_path = os.path.join('/content/drive/MyDrive/EmotionRecognitionProject/ExctractedData/TESS Toronto emotional speech set data', folder)\n",
        "    emotion_files = os.listdir(folder_path)\n",
        "\n",
        "    for file in emotion_files:\n",
        "        if file.endswith('.wav'):\n",
        "            file_path = os.path.join(folder_path, file)\n",
        "            mfccs = extract_mfcc(file_path)\n",
        "            all_features.append(mfccs)\n",
        "            all_labels.append(label)\n",
        "\n",
        "# Convert features and labels to numpy arrays\n",
        "all_features = np.array(all_features)\n",
        "all_labels = np.array(all_labels)\n",
        "\n",
        "print(\"Total features shape:\", all_features.shape)\n",
        "print(\"Total labels shape:\", all_labels.shape)\n"
      ],
      "metadata": {
        "colab": {
          "base_uri": "https://localhost:8080/"
        },
        "id": "hnG5F0ot3KIK",
        "outputId": "4c326d13-48b9-4b39-e7c5-9c393c5818fb"
      },
      "execution_count": 8,
      "outputs": [
        {
          "output_type": "stream",
          "name": "stdout",
          "text": [
            "Total features shape: (2800, 13)\n",
            "Total labels shape: (2800,)\n"
          ]
        }
      ]
    },
    {
      "cell_type": "code",
      "source": [
        "import matplotlib.pyplot as plt\n",
        "import seaborn as sns\n",
        "\n",
        "# Visualize the distribution of emotion labels\n",
        "plt.figure(figsize=(10, 6))\n",
        "sns.countplot(x=all_labels, palette='viridis')\n",
        "plt.title('Distribution of Emotion Labels')\n",
        "plt.xlabel('Emotion')\n",
        "plt.ylabel('Count')\n",
        "plt.xticks(rotation=45)\n",
        "plt.tight_layout()\n",
        "plt.show()\n"
      ],
      "metadata": {
        "colab": {
          "base_uri": "https://localhost:8080/",
          "height": 714
        },
        "id": "wNier-tgyYD3",
        "outputId": "2c30324f-0c07-41ea-e0b6-b1da63134bad"
      },
      "execution_count": 9,
      "outputs": [
        {
          "output_type": "stream",
          "name": "stderr",
          "text": [
            "<ipython-input-9-93a3a5ac6982>:6: FutureWarning: \n",
            "\n",
            "Passing `palette` without assigning `hue` is deprecated and will be removed in v0.14.0. Assign the `x` variable to `hue` and set `legend=False` for the same effect.\n",
            "\n",
            "  sns.countplot(x=all_labels, palette='viridis')\n"
          ]
        },
        {
          "output_type": "display_data",
          "data": {
            "text/plain": [
              "<Figure size 1000x600 with 1 Axes>"
            ],
            "image/png": "[encoded data removed]"
          },
          "metadata": {}
        }
      ]
    },
    {
      "cell_type": "code",
      "source": [
        "from sklearn.model_selection import train_test_split\n",
        "\n",
        "# Split the data into training and testing sets (80% training, 20% testing)\n",
        "X_train, X_test, y_train, y_test = train_test_split(all_features, all_labels, test_size=0.2, random_state=42)\n",
        "\n",
        "# Check the shape of the split data\n",
        "print(\"Training features shape:\", X_train.shape)\n",
        "print(\"Test features shape:\", X_test.shape)\n",
        "print(\"Training labels shape:\", y_train.shape)\n",
        "print(\"Test labels shape:\", y_test.shape)\n"
      ],
      "metadata": {
        "colab": {
          "base_uri": "https://localhost:8080/"
        },
        "id": "W2K1IsOh3pNQ",
        "outputId": "de2d0a4b-cb04-4398-f7ca-ef49ea9385d1"
      },
      "execution_count": 10,
      "outputs": [
        {
          "output_type": "stream",
          "name": "stdout",
          "text": [
            "Training features shape: (2240, 13)\n",
            "Test features shape: (560, 13)\n",
            "Training labels shape: (2240,)\n",
            "Test labels shape: (560,)\n"
          ]
        }
      ]
    },
    {
      "cell_type": "code",
      "source": [
        "from sklearn.linear_model import LogisticRegression\n",
        "from sklearn.metrics import accuracy_score, precision_recall_fscore_support\n",
        "\n",
        "# Initialize the Logistic Regression model\n",
        "model = LogisticRegression(max_iter=1000)\n",
        "\n",
        "# Train the model with training data\n",
        "model.fit(X_train, y_train)\n",
        "\n",
        "# Predict on the test data\n",
        "y_pred = model.predict(X_test)\n",
        "\n",
        "# Evaluate the model\n",
        "accuracy = accuracy_score(y_test, y_pred)\n",
        "print(\"Accuracy of the model:\", int(accuracy * 100))\n",
        "\n",
        "# Calculate precision, recall, and F1-score for the model's predicted class\n",
        "precision, recall, f1_score, _ = precision_recall_fscore_support(y_test, y_pred, average='weighted')\n",
        "\n",
        "print(\"Classification Report:\")\n",
        "print(f\"  Precision: {int(precision * 100)}\")\n",
        "print(f\"  Recall: {int(recall * 100)}\")\n",
        "print(f\"  F1-score: {int(f1_score * 100)}\")"
      ],
      "metadata": {
        "colab": {
          "base_uri": "https://localhost:8080/"
        },
        "id": "DdGLJotE3wCn",
        "outputId": "85524730-692d-4a39-cdc2-449796a518f6"
      },
      "execution_count": 11,
      "outputs": [
        {
          "output_type": "stream",
          "name": "stdout",
          "text": [
            "Accuracy of the model: 77\n",
            "Classification Report:\n",
            "  Precision: 77\n",
            "  Recall: 77\n",
            "  F1-score: 77\n"
          ]
        },
        {
          "output_type": "stream",
          "name": "stderr",
          "text": [
            "/usr/local/lib/python3.11/dist-packages/sklearn/linear_model/_logistic.py:465: ConvergenceWarning: lbfgs failed to converge (status=1):\n",
            "STOP: TOTAL NO. OF ITERATIONS REACHED LIMIT.\n",
            "\n",
            "Increase the number of iterations (max_iter) or scale the data as shown in:\n",
            "    https://scikit-learn.org/stable/modules/preprocessing.html\n",
            "Please also refer to the documentation for alternative solver options:\n",
            "    https://scikit-learn.org/stable/modules/linear_model.html#logistic-regression\n",
            "  n_iter_i = _check_optimize_result(\n"
          ]
        }
      ]
    },
    {
      "cell_type": "code",
      "source": [
        "import joblib\n",
        "\n",
        "# Save the trained model to a file\n",
        "joblib.dump(model, '/content/drive/MyDrive/EmotionRecognitionProject/emotion_recognition_model.joblib')\n"
      ],
      "metadata": {
        "colab": {
          "base_uri": "https://localhost:8080/"
        },
        "id": "qS3E2sVH360I",
        "outputId": "752c42ab-3e30-402a-8507-ae08c5411c90"
      },
      "execution_count": 12,
      "outputs": [
        {
          "output_type": "execute_result",
          "data": {
            "text/plain": [
              "['/content/drive/MyDrive/EmotionRecognitionProject/emotion_recognition_model.joblib']"
            ]
          },
          "metadata": {},
          "execution_count": 12
        }
      ]
    },
    {
      "cell_type": "code",
      "source": [
        "import joblib\n",
        "\n",
        "# Load the trained model from the file\n",
        "loaded_model = joblib.load('/content/drive/MyDrive/EmotionRecognitionProject/emotion_recognition_model.joblib')\n"
      ],
      "metadata": {
        "id": "m1G_ajGh4Drv"
      },
      "execution_count": 13,
      "outputs": []
    },
    {
      "cell_type": "code",
      "source": [
        "import librosa\n",
        "import numpy as np\n",
        "import joblib  # Use joblib or pickle, depending on what you used for saving\n",
        "\n",
        "# Load the model\n",
        "model_path = '/content/drive/MyDrive/EmotionRecognitionProject/emotion_recognition_model.joblib'\n",
        "model = joblib.load(model_path)\n",
        "\n",
        "# Path to the audio file you want to test\n",
        "audio_path = '/content/drive/MyDrive/EmotionRecognitionProject/new.wav'\n",
        "\n",
        "# Load the audio file\n",
        "y, sr = librosa.load(audio_path, sr=None)\n",
        "\n",
        "# Extract MFCC features from the audio\n",
        "mfcc = librosa.feature.mfcc(y=y, sr=sr, n_mfcc=13)  # Extract 13 MFCC features\n",
        "mfcc_scaled = np.mean(mfcc.T, axis=0)  # Take the mean of the MFCC features across time frames\n",
        "\n",
        "# Make the prediction\n",
        "sample_data = [mfcc_scaled]  # The model expects a 2D array, so we pass it as a list\n",
        "prediction = model.predict(sample_data)\n",
        "\n",
        "# Print the predicted emotion\n",
        "print(f\"Predicted emotion: {prediction[0]}\")  # Output the emotion predicted by the model\n"
      ],
      "metadata": {
        "colab": {
          "base_uri": "https://localhost:8080/"
        },
        "id": "hDx2Pakp6Jf3",
        "outputId": "db5542f7-9e19-4414-af5b-f6b73f0186bb"
      },
      "execution_count": 14,
      "outputs": [
        {
          "output_type": "stream",
          "name": "stdout",
          "text": [
            "Predicted emotion: Angry\n"
          ]
        }
      ]
    }
  ]
}